{
  "cells": [
    {
      "cell_type": "markdown",
      "metadata": {
        "id": "view-in-github",
        "colab_type": "text"
      },
      "source": [
        "<a href=\"https://colab.research.google.com/github/rexwotan-A01840088/Ciencia-y-Analitica-de-datos/blob/main/Actividad6FE.ipynb\" target=\"_parent\"><img src=\"https://colab.research.google.com/assets/colab-badge.svg\" alt=\"Open In Colab\"/></a>"
      ]
    },
    {
      "cell_type": "markdown",
      "metadata": {
        "id": "0v5lZjzQZTms"
      },
      "source": [
        "**MAESTRÍA EN INTELIGENCIA ARTIFICIAL APLICADA**\n",
        "\n",
        "**Curso: TC5053 - Ciencia y analítica de datos**\n",
        "\n",
        "Tecnológico de Monterrey\n",
        "\n",
        "Prof Grettel Barceló Alonso\n",
        "\n",
        "**Semana 6**\n",
        "Ingeniería de características (FE)\n",
        "\n",
        "---"
      ]
    },
    {
      "cell_type": "markdown",
      "source": [
        "*   NOMBRE: Rex Wotan Dominguez Chang\n",
        "*   MATRÍCULA: A01840088"
      ],
      "metadata": {
        "id": "HfLoXtuKuCug"
      }
    },
    {
      "cell_type": "markdown",
      "source": [
        "En esta actividad trabajarás con el archivo `computer_prices.csv`, basado en un conjunto de datos sobre características técnicas y especificaciones de computadoras portátiles y de escritorio, disponible en Kaggle.\n",
        "\n",
        "Los datos fueron recopilados para analizar el rendimiento y el precio de los dispositivos, e incluyen información sobre hardware, almacenamiento, conectividad y otras especificaciones técnicas. Los indicadores incluidos son:\n",
        "\n",
        "* `device_type`: Tipo de dispositivo (ej. laptop, desktop)\n",
        "* `brand`: Marca del dispositivo\n",
        "* `model`: Modelo del dispositivo\n",
        "* `release_year`: Año de lanzamiento del dispositivo\n",
        "* `os`: Sistema operativo instalado\n",
        "* `form_factor`: Factor de forma o diseño del dispositivo (ej. laptop, ultrabook, desktop tower)\n",
        "* `cpu_brand`: Marca del procesador\n",
        "* `cpu_tier`: Nivel o gama del procesador, ordinal del 1 al 6 según desempeño\n",
        "* `cpu_cores`: Número de núcleos del procesador\n",
        "* `cpu_threads`: Número de hilos de ejecución del procesador\n",
        "* `gpu_brand`: Marca de la tarjeta gráfica\n",
        "* `gpu_model`: Modelo específico de la tarjeta gráfica\n",
        "* `gpu_tier`: Nivel o gama de la GPU, ordinal del 1 al 6 según desempeño\n",
        "* `vram_gb`: Memoria de video de la GPU en gigabytes\n",
        "* `ram_gb`: Memoria RAM del dispositivo en gigabytes\n",
        "* `storage_type`: Tipo de almacenamiento (ej. HDD, SSD)\n",
        "* `storage_gb`: Capacidad de almacenamiento en gigabytes\n",
        "* `storage_drive_count`: Número de unidades de almacenamiento instaladas\n",
        "* `display_type`: Tipo de pantalla (ej. IPS, TN, OLED)\n",
        "* `charger_watts`: Potencia del cargador (en watts) para laptops\n",
        "* `psu_watts`: Potencia de la fuente de poder (en watts) para desktops\n",
        "* `wifi`: Estándar de conectividad Wi-Fi (ej. Wi-Fi 5, 6, 6E, 7)\n",
        "* `bluetooth`: Versión de Bluetooth\n",
        "* `weight_kg`: Peso del dispositivo en kilogramos\n",
        "* `warranty_months`: Meses de garantía del dispositivo\n",
        "* `price`: Precio del dispositivo. Es la variable de salida o *target*, es decir, la que se pretende predecir más adelante al construir el modelo.\n",
        "\n",
        "**NOTA IMPORTANTE:** Asegúrate de responder *explícitamente* todos los cuestionamientos."
      ],
      "metadata": {
        "id": "EfwxWIRf1URV"
      }
    },
    {
      "cell_type": "code",
      "source": [
        "# Instalar las bibliotecas necesarias\n",
        "!pip install category_encoders"
      ],
      "metadata": {
        "id": "qqrtpRsHfOcH",
        "colab": {
          "base_uri": "https://localhost:8080/"
        },
        "outputId": "2291479a-6273-45a4-bb8e-8a0c37d748cb"
      },
      "execution_count": 1,
      "outputs": [
        {
          "output_type": "stream",
          "name": "stdout",
          "text": [
            "Collecting category_encoders\n",
            "  Downloading category_encoders-2.8.1-py3-none-any.whl.metadata (7.9 kB)\n",
            "Requirement already satisfied: numpy>=1.14.0 in /usr/local/lib/python3.12/dist-packages (from category_encoders) (2.0.2)\n",
            "Requirement already satisfied: pandas>=1.0.5 in /usr/local/lib/python3.12/dist-packages (from category_encoders) (2.2.2)\n",
            "Requirement already satisfied: patsy>=0.5.1 in /usr/local/lib/python3.12/dist-packages (from category_encoders) (1.0.1)\n",
            "Requirement already satisfied: scikit-learn>=1.6.0 in /usr/local/lib/python3.12/dist-packages (from category_encoders) (1.6.1)\n",
            "Requirement already satisfied: scipy>=1.0.0 in /usr/local/lib/python3.12/dist-packages (from category_encoders) (1.16.2)\n",
            "Requirement already satisfied: statsmodels>=0.9.0 in /usr/local/lib/python3.12/dist-packages (from category_encoders) (0.14.5)\n",
            "Requirement already satisfied: python-dateutil>=2.8.2 in /usr/local/lib/python3.12/dist-packages (from pandas>=1.0.5->category_encoders) (2.9.0.post0)\n",
            "Requirement already satisfied: pytz>=2020.1 in /usr/local/lib/python3.12/dist-packages (from pandas>=1.0.5->category_encoders) (2025.2)\n",
            "Requirement already satisfied: tzdata>=2022.7 in /usr/local/lib/python3.12/dist-packages (from pandas>=1.0.5->category_encoders) (2025.2)\n",
            "Requirement already satisfied: joblib>=1.2.0 in /usr/local/lib/python3.12/dist-packages (from scikit-learn>=1.6.0->category_encoders) (1.5.2)\n",
            "Requirement already satisfied: threadpoolctl>=3.1.0 in /usr/local/lib/python3.12/dist-packages (from scikit-learn>=1.6.0->category_encoders) (3.6.0)\n",
            "Requirement already satisfied: packaging>=21.3 in /usr/local/lib/python3.12/dist-packages (from statsmodels>=0.9.0->category_encoders) (25.0)\n",
            "Requirement already satisfied: six>=1.5 in /usr/local/lib/python3.12/dist-packages (from python-dateutil>=2.8.2->pandas>=1.0.5->category_encoders) (1.17.0)\n",
            "Downloading category_encoders-2.8.1-py3-none-any.whl (85 kB)\n",
            "\u001b[2K   \u001b[90m━━━━━━━━━━━━━━━━━━━━━━━━━━━━━━━━━━━━━━━━\u001b[0m \u001b[32m85.7/85.7 kB\u001b[0m \u001b[31m2.4 MB/s\u001b[0m eta \u001b[36m0:00:00\u001b[0m\n",
            "\u001b[?25hInstalling collected packages: category_encoders\n",
            "Successfully installed category_encoders-2.8.1\n"
          ]
        }
      ]
    },
    {
      "cell_type": "code",
      "execution_count": 2,
      "metadata": {
        "id": "7Qc1oYLeZTmu"
      },
      "outputs": [],
      "source": [
        "# Importar las bibliotecas necesarias\n",
        "import pandas as pd\n",
        "import numpy as np\n",
        "import matplotlib.pyplot as plt\n",
        "import seaborn as sns\n",
        "from datetime import date\n",
        "from scipy.stats import probplot\n",
        "from sklearn.preprocessing import KBinsDiscretizer\n",
        "from sklearn.preprocessing import FunctionTransformer, PowerTransformer\n",
        "from sklearn.preprocessing import MinMaxScaler\n",
        "from sklearn.preprocessing import OneHotEncoder, OrdinalEncoder\n",
        "from category_encoders.binary import BinaryEncoder"
      ]
    },
    {
      "cell_type": "markdown",
      "source": [
        "1. Descarga el archivo: `computer_prices.csv` y guarda, en un dataframe (`compu_df`), todos sus registros.\n",
        "* Utiliza el método `info()` del dataframe, para obtener el resumen de los tipos de datos. ¿Cuántas columnas son numéricas y cuántas de texto?\n",
        "* Determina la cantidad de valores únicos por columna.\n",
        "* Elimina las variables:\n",
        "  * `model`: Debido a su altísima cardinalidad, lo que dificulta su uso en análisis y modelado.\n",
        "  * `cpu_model`: Además de su elevada cardinalidad, su información ya está representada de manera implícita en otras variables como: `cpu_tier`, `cpu_cores` y `cpu_threads`"
      ],
      "metadata": {
        "id": "Le6OjkjhwjX7"
      }
    },
    {
      "cell_type": "code",
      "source": [
        "import os\n",
        "import io\n",
        "import pandas as pd\n",
        "import numpy as np\n",
        "\n",
        "def cargar_computer_prices():\n",
        "    posibles_rutas = [\"computer_prices.csv\", \"/content/computer_prices.csv\"]\n",
        "    ruta_encontrada = None\n",
        "    for p in posibles_rutas:\n",
        "        if os.path.exists(p):\n",
        "            ruta_encontrada = p\n",
        "            break\n",
        "\n",
        "    if ruta_encontrada is not None:\n",
        "        try:\n",
        "            df = pd.read_csv(ruta_encontrada, encoding=\"utf-8-sig\",\n",
        "                             low_memory=False, on_bad_lines=\"skip\")\n",
        "        except UnicodeDecodeError:\n",
        "            df = pd.read_csv(ruta_encontrada, encoding=\"latin-1\",\n",
        "                             low_memory=False, on_bad_lines=\"skip\")\n",
        "        return df, ruta_encontrada\n",
        "\n",
        "\n",
        "print(\"=== Resumen de tipos (DataFrame.info) ===\")\n",
        "compu_df.info(memory_usage=\"deep\")\n",
        "\n",
        "num_cols  = compu_df.select_dtypes(include=np.number).columns\n",
        "text_cols = compu_df.select_dtypes(include=[\"object\", \"string\", \"category\"]).columns\n",
        "dt_cols   = compu_df.select_dtypes(include=[\"datetime64[ns]\", \"datetimetz\"]).columns\n",
        "bool_cols = compu_df.select_dtypes(include=[\"bool\"]).columns\n",
        "\n",
        "print(\"\\n=== Conteo por tipo lógico ===\")\n",
        "print(f\"Columnas numéricas: {len(num_cols)}\")\n",
        "print(f\"Columnas de texto (object/string/category): {len(text_cols)}\")\n",
        "print(f\"Columnas datetime: {len(dt_cols)}\")\n",
        "print(f\"Columnas booleanas: {len(bool_cols)}\\n\")\n",
        "\n",
        "unique_counts = compu_df.nunique(dropna=True).sort_values(ascending=False)\n",
        "print(\"=== Valores únicos por columna (excluye NaN) ===\")\n",
        "print(unique_counts.to_string())\n",
        "print()\n",
        "\n",
        "cols_a_eliminar = [c for c in [\"model\", \"cpu_model\"] if c in compu_df.columns]\n",
        "compu_df.drop(columns=cols_a_eliminar, inplace=True, errors=\"ignore\")\n",
        "\n",
        "if cols_a_eliminar:\n",
        "    print(f\"🗑️ Columnas eliminadas: {cols_a_eliminar}\")\n",
        "else:\n",
        "    print(\"ℹ️ Las columnas 'model' y/o 'cpu_model' no estaban presentes.\")\n",
        "\n",
        "print(f\"🔁 Nuevo shape tras eliminación: {compu_df.shape[0]} filas × {compu_df.shape[1]} columnas\\n\")\n"
      ],
      "metadata": {
        "id": "84EFESNcF6uD",
        "colab": {
          "base_uri": "https://localhost:8080/"
        },
        "outputId": "cff26e6a-1ca0-42ef-f6c7-d6fccbe6e227"
      },
      "execution_count": 6,
      "outputs": [
        {
          "output_type": "stream",
          "name": "stdout",
          "text": [
            "=== Resumen de tipos (DataFrame.info) ===\n",
            "<class 'pandas.core.frame.DataFrame'>\n",
            "RangeIndex: 100000 entries, 0 to 99999\n",
            "Data columns (total 25 columns):\n",
            " #   Column               Non-Null Count   Dtype  \n",
            "---  ------               --------------   -----  \n",
            " 0   device_type          100000 non-null  object \n",
            " 1   brand                100000 non-null  object \n",
            " 2   release_year         100000 non-null  int64  \n",
            " 3   os                   100000 non-null  object \n",
            " 4   form_factor          100000 non-null  object \n",
            " 5   cpu_brand            100000 non-null  object \n",
            " 6   cpu_tier             100000 non-null  int64  \n",
            " 7   cpu_cores            100000 non-null  int64  \n",
            " 8   cpu_threads          100000 non-null  int64  \n",
            " 9   gpu_brand            100000 non-null  object \n",
            " 10  gpu_model            100000 non-null  object \n",
            " 11  gpu_tier             100000 non-null  int64  \n",
            " 12  vram_gb              100000 non-null  int64  \n",
            " 13  ram_gb               100000 non-null  int64  \n",
            " 14  storage_type         100000 non-null  object \n",
            " 15  storage_gb           100000 non-null  int64  \n",
            " 16  storage_drive_count  100000 non-null  int64  \n",
            " 17  display_type         100000 non-null  object \n",
            " 18  charger_watts        100000 non-null  int64  \n",
            " 19  psu_watts            100000 non-null  int64  \n",
            " 20  wifi                 100000 non-null  object \n",
            " 21  bluetooth            100000 non-null  float64\n",
            " 22  weight_kg            100000 non-null  float64\n",
            " 23  warranty_months      100000 non-null  int64  \n",
            " 24  price                100000 non-null  float64\n",
            "dtypes: float64(3), int64(12), object(10)\n",
            "memory usage: 63.9 MB\n",
            "\n",
            "=== Conteo por tipo lógico ===\n",
            "Columnas numéricas: 15\n",
            "Columnas de texto (object/string/category): 10\n",
            "Columnas datetime: 0\n",
            "Columnas booleanas: 0\n",
            "\n",
            "=== Valores únicos por columna (excluye NaN) ===\n",
            "price                  3366\n",
            "gpu_model                49\n",
            "weight_kg                47\n",
            "cpu_threads              25\n",
            "ram_gb                   15\n",
            "cpu_cores                12\n",
            "brand                    10\n",
            "form_factor              10\n",
            "psu_watts                 9\n",
            "release_year              8\n",
            "vram_gb                   8\n",
            "charger_watts             7\n",
            "cpu_tier                  6\n",
            "display_type              6\n",
            "gpu_tier                  6\n",
            "storage_gb                5\n",
            "bluetooth                 5\n",
            "storage_drive_count       4\n",
            "storage_type              4\n",
            "os                        4\n",
            "gpu_brand                 4\n",
            "wifi                      4\n",
            "warranty_months           4\n",
            "cpu_brand                 3\n",
            "device_type               2\n",
            "\n",
            "ℹ️ Las columnas 'model' y/o 'cpu_model' no estaban presentes.\n",
            "🔁 Nuevo shape tras eliminación: 100000 filas × 25 columnas\n",
            "\n"
          ]
        }
      ]
    },
    {
      "cell_type": "markdown",
      "source": [
        "2. Antes de iniciar con el análisis univariado, verifica si hay valores duplicados y/o faltantes.\n",
        "* Obtén las estadísticas descriptivas, separado las numéricas y las categóricas. De estas últimas incluye las tablas de frecuencia.\n",
        "* Genera histogramas para las numéricas y diagramas de barras para las categóricas. Con alta cardinalidad, sólo incluye los 10 valores más frecuentes."
      ],
      "metadata": {
        "id": "ERIYLoDuzG1J"
      }
    },
    {
      "cell_type": "code",
      "source": [],
      "metadata": {
        "id": "MABPqq_fF9wC"
      },
      "execution_count": null,
      "outputs": []
    },
    {
      "cell_type": "markdown",
      "source": [
        "3. Dibuja un mapa de calor con la matriz de correlación para las variables numéricas del conjunto de datos.\n",
        "* Identifica los pares de variables cuya correlación sea superior a 0.9 e imprímelos.\n",
        "* Reflexiona sobre cuáles variables representan de manera general la capacidad del hardware y mantenlas; elimina las demás por aportar información redundante.\n",
        "* Incluye una breve justificación de tus decisiones."
      ],
      "metadata": {
        "id": "eungSZf109oR"
      }
    },
    {
      "cell_type": "code",
      "source": [],
      "metadata": {
        "id": "8HYn67aJF_s3"
      },
      "execution_count": null,
      "outputs": []
    },
    {
      "cell_type": "markdown",
      "source": [
        "4. Para comenzar con la ingeniería de características, crea una copia del dataframe y asígnala a un nuevo objeto llamado `compu_trans`.\n",
        "* Calcula cuántos años han pasado desde el lanzamiento de cada computadora y almacénalo en una nueva columna llamada `years_since_release`; luego, elimina la columna original.\n",
        "* Utiliza `KBinsDiscretizer` para reemplazar la columna `vram_gb` en 4 bins ordinales basados en cuantiles.\n",
        "* Imprime los valores que delimitan cada bin y haz un histograma para ver la cantidad de observaciones en cada uno, con el fin de entender cómo se agruparon los datos."
      ],
      "metadata": {
        "id": "XZ9b0UN14JDw"
      }
    },
    {
      "cell_type": "code",
      "source": [],
      "metadata": {
        "id": "ubWn0ELeGDhT"
      },
      "execution_count": null,
      "outputs": []
    },
    {
      "cell_type": "markdown",
      "source": [
        "5. Observa los histogramas del ejercicio 2. Notarás que en las variables `charger_watts` y `psu_watts` aparece una barra en 0. Analiza por qué ocurre esto y qué significa en relación con el tipo de dispositivo.\n",
        "* Como estas variables son mutuamente excluyentes, combínalas en una nueva columna llamada `power_watts` que contenga la potencia correspondiente de cada dispositivo y, a continuación, haz un histograma para verificar que la distribución resultante es bimodal.\n",
        "* Por último, borra las columnas originales `charger_watts` y `psu_watts`."
      ],
      "metadata": {
        "id": "SiiAdmoj7G2t"
      }
    },
    {
      "cell_type": "code",
      "source": [],
      "metadata": {
        "id": "700uWupQGFkE"
      },
      "execution_count": null,
      "outputs": []
    },
    {
      "cell_type": "markdown",
      "source": [
        "6. Para disminuir el sesgo de la variable `price`, crea tres transformadores: logaritmo, raíz cuadrada y Box - Cox.\n",
        "* Aplica cada transformador a la variable price, dejando el resultado en variables temporales. El objetivo es comparar los efectos de cada transformación antes de decidir cuál aplicar de manera definitiva sobre las variables continuas del dataframe.\n",
        "* De la variable original y de cada una de las tres transformaciones se debe mostrar:\n",
        "  * Histograma: para observar la distribución de los datos.\n",
        "  * Boxplot: para identificar posibles valores atípicos.\n",
        "  * Q-Q plot: para evaluar la normalidad de la variable.\n",
        "  * Skew (sesgo): para cuantificar la asimetría de la distribución.\n",
        "  * Cantidad de outliers: para conocer cuántos valores extremos existen.\n",
        "* En función de los resultados obtenidos al comparar las transformaciones, decide cuál logró el mejor efecto sobre la distribución de la variable y aplícala directamente en el dataframe, reemplazando las variables continuas: `weight_kg`, `power_watts` y `price`."
      ],
      "metadata": {
        "id": "K5NzoKv-9b5o"
      }
    },
    {
      "cell_type": "code",
      "source": [],
      "metadata": {
        "id": "JqlCe-WlGHOk"
      },
      "execution_count": null,
      "outputs": []
    },
    {
      "cell_type": "markdown",
      "source": [
        "7. Para que todas las variables numéricas estén en la misma escala, aplica `MinMaxScaler` de sklearn a todas las columnas numéricas del dataframe, reemplazando las columnas originales."
      ],
      "metadata": {
        "id": "FjaiZgyGA1CW"
      }
    },
    {
      "cell_type": "code",
      "source": [],
      "metadata": {
        "id": "VF1pOiOaGIfl"
      },
      "execution_count": null,
      "outputs": []
    },
    {
      "cell_type": "markdown",
      "source": [
        "8. Aunque `wifi` es una variable categórica, sus categorías tienen un orden natural (Wi-Fi 5 < Wi-Fi 6 < Wi-Fi 6E < Wi-Fi 7). Codifícala usando `OrdinalEncoder`.\n",
        "* Luego, escala la variable codificada entre 0 y 1 con `MinMaxScaler`, para que quede en la misma escala que las variables numéricas del dataframe.\n",
        "\n",
        "Nota: Ambos cambios deben efectuarse sobre la columna original, de manera que quede una única columna `wifi` con toda la información transformada."
      ],
      "metadata": {
        "id": "l2cERLGPBiDa"
      }
    },
    {
      "cell_type": "code",
      "source": [],
      "metadata": {
        "id": "jYWFoCuqGJ6t"
      },
      "execution_count": null,
      "outputs": []
    },
    {
      "cell_type": "markdown",
      "source": [
        "9. La variable `gpu_model` tiene muchas categorías. Usar *One-Hot Encoding* aumentaría significativamente la dimensionalidad del dataframe. Por ello, utiliza `BinaryEncoder` para codificarla.\n",
        "* Guarda el resultado en un dataframe llamado `bin_df`. Más adelante, lo combinarás con `compu_transf` para integrar las variables codificadas."
      ],
      "metadata": {
        "id": "fAt3XdUWClDA"
      }
    },
    {
      "cell_type": "code",
      "source": [],
      "metadata": {
        "id": "TxEAzoUqGMPx"
      },
      "execution_count": null,
      "outputs": []
    },
    {
      "cell_type": "markdown",
      "source": [
        "10. Usa `OneHotEncoder` para codificar las variables categóricas restantes. Asegúrate de usar `drop='first'` para evitar la multicolinealidad y guarda el resultado en un dataframe llamado `ohe_df`\n",
        "* Combina el dataframe `compu_transf` con las variables categóricas que fueron codificadas en `bin_df` y `ohe_df`. No olvides eliminar las variables originales.\n",
        "* Usa `describe()` sobre el dataframe resultante para corroborar que todas las columnas estén escaladas entre 0 y 1 y que no queden variables categóricas sin codificar."
      ],
      "metadata": {
        "id": "TLurnGe-DpUi"
      }
    },
    {
      "cell_type": "code",
      "source": [],
      "metadata": {
        "id": "d6MhDsZpGNsf"
      },
      "execution_count": null,
      "outputs": []
    }
  ],
  "metadata": {
    "kernelspec": {
      "display_name": "Python 3",
      "language": "python",
      "name": "python3"
    },
    "language_info": {
      "codemirror_mode": {
        "name": "ipython",
        "version": 3
      },
      "file_extension": ".py",
      "mimetype": "text/x-python",
      "name": "python",
      "nbconvert_exporter": "python",
      "pygments_lexer": "ipython3",
      "version": "3.8.5"
    },
    "colab": {
      "provenance": [],
      "include_colab_link": true
    }
  },
  "nbformat": 4,
  "nbformat_minor": 0
}